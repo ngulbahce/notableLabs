{
 "cells": [
  {
   "cell_type": "code",
   "execution_count": 604,
   "metadata": {},
   "outputs": [],
   "source": [
    "#Classifier choices for outcome prediction for AML patients\n",
    "#KNeighborsClassifier, LogisticRegression, RandomForestClassifier, RidgeClassifier, Perceptron, LinearSVC\n",
    "#LogisticRegression and LinearSVC performed best with accuracy=0.925\n",
    "#Perceptron was a good option also with no false positives\n",
    "\n",
    "#Preprocessing of data\n",
    "#Transposed the initial file format to get features as columns\n",
    "#Removed features with more than 90% NAs\n",
    "#Converted categorical variables to numerics\n",
    "#Did not play with scaling and imputing for this exercise\n",
    "\n",
    "#Cross validation \n",
    "#Used 5-fold cross validation in logistic regression\n",
    "\n",
    "#Predictive features\n",
    "#Top 4 features were\n",
    "#1.['patient.days_to_last_followup']\n",
    "#2.['patient.molecular_analysis_abnormality_testing_results.molecular_analysis_abnormality_testing_result_values.molecular_analysis_abnormality_testing_result']\n",
    "#3.['patient.lab_procedure_abnormal_lymphocyte_result_percent_value']\n",
    "#4.['patient.lab_procedure_bone_marrow_band_cell_result_percent_value']\n",
    "#While 1st feature had the most predictive power (largest coefficient), this correlation is expected so not much information\n",
    "#content with it. \n"
   ]
  },
  {
   "cell_type": "code",
   "execution_count": 605,
   "metadata": {},
   "outputs": [],
   "source": [
    "import pandas as pd\n",
    "import numpy as np\n",
    "import warnings\n",
    "from sklearn.pipeline import make_pipeline\n",
    "from sklearn.metrics import confusion_matrix\n",
    "from sklearn.linear_model import LinearRegression, Lasso, Ridge, LassoLarsCV, ElasticNet\n",
    "from sklearn.model_selection import GridSearchCV, cross_val_score, learning_curve,train_test_split, KFold\n",
    "from sklearn.preprocessing import StandardScaler, Normalizer, RobustScaler, OrdinalEncoder, LabelEncoder\n",
    "warnings.filterwarnings('ignore')\n",
    "sns.set(style='white', context='notebook', palette='deep')\n",
    "%config InlineBackend.figure_format = 'retina' #set 'png' here when working on notebook\n",
    "%matplotlib inline"
   ]
  },
  {
   "cell_type": "code",
   "execution_count": 606,
   "metadata": {},
   "outputs": [],
   "source": [
    "df = pd.read_csv('gdac.broadinstitute.org_LAML.Merge_Clinical.Level_1.2016012800.0.0/LAML.merged_only_clinical_clin_format.txt'\n",
    "                 ,sep='\\t')"
   ]
  },
  {
   "cell_type": "code",
   "execution_count": 607,
   "metadata": {},
   "outputs": [],
   "source": [
    "tdf = df.transpose()\n",
    "tdf.columns = tdf.iloc[0]\n",
    "tdf = tdf.drop('V1')"
   ]
  },
  {
   "cell_type": "code",
   "execution_count": 608,
   "metadata": {},
   "outputs": [],
   "source": [
    "y = tdf['patient.vital_status']\n",
    "#tdf = tdf.drop(['patient.vital_status','patient.days_to_last_followup'], axis=1)\n",
    "\n",
    "tdf = tdf.drop('patient.vital_status', axis=1)"
   ]
  },
  {
   "cell_type": "code",
   "execution_count": 609,
   "metadata": {},
   "outputs": [],
   "source": [
    "#impute\n",
    "\n",
    "#remove features with >90% NA (58 features removed)\n",
    "tdf_na = (tdf.isnull().sum() / len(tdf)) * 100\n",
    "newtdf = tdf.drop(tdf_na[tdf_na >90].index,axis=1)\n"
   ]
  },
  {
   "cell_type": "code",
   "execution_count": 610,
   "metadata": {},
   "outputs": [],
   "source": [
    "#any skewed features?\n",
    "\n",
    "#remove uuid, patient id columns"
   ]
  },
  {
   "cell_type": "code",
   "execution_count": 611,
   "metadata": {},
   "outputs": [],
   "source": [
    "features = newtdf.columns.values\n",
    "\n",
    "for f in features:\n",
    "    lbl = LabelEncoder() \n",
    "    lbl.fit(list(newtdf[f].values)) \n",
    "    newtdf[f] = lbl.transform(list(newtdf[f].values))\n",
    "\n",
    "lbl.fit(list(y.values))\n",
    "y = lbl.transform(list(y.values))\n",
    "\n",
    "from sklearn.decomposition import PCA\n",
    "\n",
    "pca = PCA()\n",
    "#Todo: Fit and transform X using PCA (function params: training data and labels)\n",
    "pca = pca.fit(newtdf, y)\n",
    "X = pca.transform(newtdf)"
   ]
  },
  {
   "cell_type": "code",
   "execution_count": 612,
   "metadata": {},
   "outputs": [],
   "source": [
    "#from sklearn.model_selection import train_test_split\n",
    "train, test, y_train, y_test = train_test_split(newtdf, y, test_size=0.2, random_state=1)\n"
   ]
  },
  {
   "cell_type": "code",
   "execution_count": 613,
   "metadata": {},
   "outputs": [
    {
     "data": {
      "text/plain": [
       "0.775"
      ]
     },
     "execution_count": 613,
     "metadata": {},
     "output_type": "execute_result"
    }
   ],
   "source": [
    "from sklearn.neighbors import KNeighborsClassifier\n",
    "knn = KNeighborsClassifier()\n",
    "knn.fit(train, y_train) \n",
    "y_pred = knn.predict(test)\n",
    "knn.score(test,y_test)"
   ]
  },
  {
   "cell_type": "code",
   "execution_count": 614,
   "metadata": {},
   "outputs": [
    {
     "data": {
      "text/plain": [
       "array([10,  7,  2, 21])"
      ]
     },
     "execution_count": 614,
     "metadata": {},
     "output_type": "execute_result"
    }
   ],
   "source": [
    "confusion_matrix(y_test, y_pred).ravel()"
   ]
  },
  {
   "cell_type": "code",
   "execution_count": 629,
   "metadata": {},
   "outputs": [
    {
     "data": {
      "text/plain": [
       "0.925"
      ]
     },
     "execution_count": 629,
     "metadata": {},
     "output_type": "execute_result"
    }
   ],
   "source": [
    "from sklearn.linear_model import LogisticRegressionCV\n",
    "clf = LogisticRegressionCV(cv=5, random_state=0, solver='lbfgs',multi_class='multinomial').fit(train, y_train)\n",
    "y_pred = clf.predict(test)\n",
    "clf.score(test,y_test)"
   ]
  },
  {
   "cell_type": "code",
   "execution_count": 616,
   "metadata": {},
   "outputs": [
    {
     "data": {
      "text/plain": [
       "array([15,  2,  1, 22])"
      ]
     },
     "execution_count": 616,
     "metadata": {},
     "output_type": "execute_result"
    }
   ],
   "source": [
    "confusion_matrix(y_test, y_pred).ravel()"
   ]
  },
  {
   "cell_type": "code",
   "execution_count": 630,
   "metadata": {},
   "outputs": [
    {
     "data": {
      "text/plain": [
       "0.9246615087040618"
      ]
     },
     "execution_count": 630,
     "metadata": {},
     "output_type": "execute_result"
    }
   ],
   "source": [
    "from sklearn.metrics import f1_score\n",
    "f1_score(y_test, y_pred, average='weighted')"
   ]
  },
  {
   "cell_type": "code",
   "execution_count": 617,
   "metadata": {},
   "outputs": [
    {
     "name": "stdout",
     "output_type": "stream",
     "text": [
      "[71] ['patient.lab_procedure_bone_marrow_band_cell_result_percent_value']\n",
      "[69] ['patient.lab_procedure_abnormal_lymphocyte_result_percent_value']\n",
      "[95] ['patient.molecular_analysis_abnormality_testing_results.molecular_analysis_abnormality_testing_result_values.molecular_analysis_abnormality_testing_result']\n",
      "[23] ['patient.days_to_last_followup']\n"
     ]
    }
   ],
   "source": [
    "for i in np.argsort(clf.coef_,axis=1).T[-4:]:\n",
    "    print (i,features[i])"
   ]
  },
  {
   "cell_type": "code",
   "execution_count": 618,
   "metadata": {},
   "outputs": [
    {
     "data": {
      "text/plain": [
       "0.875"
      ]
     },
     "execution_count": 618,
     "metadata": {},
     "output_type": "execute_result"
    }
   ],
   "source": [
    "from sklearn.ensemble import RandomForestClassifier\n",
    "\n",
    "clf = RandomForestClassifier(n_estimators=100, max_depth=2, random_state=0)\n",
    "clf.fit(train, y_train)\n",
    "y_pred = clf.predict(test)\n",
    "clf.score(test,y_test)"
   ]
  },
  {
   "cell_type": "code",
   "execution_count": 619,
   "metadata": {},
   "outputs": [
    {
     "data": {
      "text/plain": [
       "array([12,  5,  0, 23])"
      ]
     },
     "execution_count": 619,
     "metadata": {},
     "output_type": "execute_result"
    }
   ],
   "source": [
    "confusion_matrix(y_test, y_pred).ravel()"
   ]
  },
  {
   "cell_type": "code",
   "execution_count": 620,
   "metadata": {},
   "outputs": [
    {
     "data": {
      "text/plain": [
       "0.9"
      ]
     },
     "execution_count": 620,
     "metadata": {},
     "output_type": "execute_result"
    }
   ],
   "source": [
    "from sklearn.linear_model import RidgeClassifier\n",
    "\n",
    "clf = RidgeClassifier().fit(train, y_train)\n",
    "y_pred = clf.predict(test)\n",
    "clf.score(test,y_test)"
   ]
  },
  {
   "cell_type": "code",
   "execution_count": 621,
   "metadata": {},
   "outputs": [
    {
     "data": {
      "text/plain": [
       "array([14,  3,  1, 22])"
      ]
     },
     "execution_count": 621,
     "metadata": {},
     "output_type": "execute_result"
    }
   ],
   "source": [
    "confusion_matrix(y_test, y_pred).ravel()"
   ]
  },
  {
   "cell_type": "code",
   "execution_count": 627,
   "metadata": {},
   "outputs": [
    {
     "data": {
      "text/plain": [
       "0.900501253132832"
      ]
     },
     "execution_count": 627,
     "metadata": {},
     "output_type": "execute_result"
    }
   ],
   "source": [
    "from sklearn.linear_model import Perceptron\n",
    "\n",
    "clf = Perceptron(tol=1e-3, random_state=0)\n",
    "clf.fit(train, y_train)\n",
    "y_pred = clf.predict(test)\n",
    "clf.score(test,y_test)\n",
    "from sklearn.metrics import f1_score\n",
    "f1_score(y_test, y_pred, average='weighted')"
   ]
  },
  {
   "cell_type": "code",
   "execution_count": 623,
   "metadata": {},
   "outputs": [
    {
     "data": {
      "text/plain": [
       "array([17,  0,  4, 19])"
      ]
     },
     "execution_count": 623,
     "metadata": {},
     "output_type": "execute_result"
    }
   ],
   "source": [
    "confusion_matrix(y_test, y_pred).ravel()"
   ]
  },
  {
   "cell_type": "code",
   "execution_count": 624,
   "metadata": {},
   "outputs": [
    {
     "data": {
      "text/plain": [
       "0.925"
      ]
     },
     "execution_count": 624,
     "metadata": {},
     "output_type": "execute_result"
    }
   ],
   "source": [
    "from sklearn.svm import LinearSVC\n",
    "\n",
    "clf = LinearSVC(random_state=0, tol=1e-5)\n",
    "clf.fit(train, y_train)\n",
    "y_pred = clf.predict(test)\n",
    "clf.score(test,y_test)"
   ]
  },
  {
   "cell_type": "code",
   "execution_count": 625,
   "metadata": {},
   "outputs": [
    {
     "data": {
      "text/plain": [
       "array([15,  2,  1, 22])"
      ]
     },
     "execution_count": 625,
     "metadata": {},
     "output_type": "execute_result"
    }
   ],
   "source": [
    "confusion_matrix(y_test, y_pred).ravel()"
   ]
  },
  {
   "cell_type": "code",
   "execution_count": null,
   "metadata": {},
   "outputs": [],
   "source": []
  },
  {
   "cell_type": "code",
   "execution_count": null,
   "metadata": {},
   "outputs": [],
   "source": []
  },
  {
   "cell_type": "code",
   "execution_count": null,
   "metadata": {},
   "outputs": [],
   "source": []
  }
 ],
 "metadata": {
  "kernelspec": {
   "display_name": "Python 3",
   "language": "python",
   "name": "python3"
  },
  "language_info": {
   "codemirror_mode": {
    "name": "ipython",
    "version": 3
   },
   "file_extension": ".py",
   "mimetype": "text/x-python",
   "name": "python",
   "nbconvert_exporter": "python",
   "pygments_lexer": "ipython3",
   "version": "3.6.8"
  }
 },
 "nbformat": 4,
 "nbformat_minor": 2
}
